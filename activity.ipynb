{
 "cells": [
  {
   "cell_type": "markdown",
   "metadata": {},
   "source": [
    "# DIY Float Design\n",
    "#### Go through the code provided to calculate how heavy you should make your design, how fast it will sink, and how much it will cost!\n",
    "Go through the cells carefully, anywhere you see a comment with three hashtags (###) instead of one this means that you need to add a measured value there (between the \"=\" and the \"###\").<br>\n",
    "A \"#\" is how you start a comment in python. This means that anything to the right of a \"#\" isn't run. <br>\n",
    "To run a cell select \"shift+enter\" or press the \"run\" button on your screen"
   ]
  },
  {
   "cell_type": "code",
   "execution_count": null,
   "metadata": {},
   "outputs": [],
   "source": [
    "import numpy as np\n",
    "import math"
   ]
  },
  {
   "cell_type": "markdown",
   "metadata": {},
   "source": [
    "## Float Volume"
   ]
  },
  {
   "cell_type": "code",
   "execution_count": null,
   "metadata": {},
   "outputs": [],
   "source": [
    "# lets calculate the volume of the float\n",
    "# make sure your measurements are in meters [m]!\n",
    "\n",
    "cw =  ### cap width, m\n",
    "ch =  ### cap height, m\n",
    "bh =  ### body height, m\n",
    "bw =  ### body width, m\n",
    "# these are just suggested measurements to add together to get a bottle volume, \n",
    "# if you think that more things should be added to the volume calculation, go ahead :)\n",
    "# if you do measure the bottle in more detail, make sure to add this info to your total volume calculation \"V\"\n",
    "\n",
    "def v_cylinder(width,height): # define the equation for the volume of a cylinder\n",
    "    # you don't need to edit anything in this equation \n",
    "    # its set up to return the volume of a cylinder based on your measure \"width\" and \"height\"\n",
    "    # we use it (four lines down) in the \"V\" calculation by imputing your cap and body measurements into the function\n",
    "    V = math.pi * (width/2)**2 * height\n",
    "    return V\n",
    "\n",
    "# and add up the volume of all three chunks!\n",
    "V = v_cylinder(cw,ch) + v_cylinder(bw,bh) ### if you made more measurements then you need to add info on them to this equation\n",
    "print('the bottle volume is ' + str(np.round(V,6))+' m3')\n",
    "# don't worry.. it should be pretty small, remember that 1 m3 = 100^3 cm3"
   ]
  },
  {
   "cell_type": "markdown",
   "metadata": {},
   "source": [
    "## Water\n",
    "#### Density"
   ]
  },
  {
   "cell_type": "code",
   "execution_count": null,
   "metadata": {},
   "outputs": [],
   "source": [
    "# lets calculate water density as a function of temperature\n",
    "T =  ### temperature in deg C\n",
    "\n",
    "# bunch of coefficients:\n",
    "a0 = 999.842594\n",
    "a1 = 6.793952 * 10**-2\n",
    "a2 = -9.095290 * 10**-3\n",
    "a3 = 1.001685 * 10**-4\n",
    "a4 = -1.120083 * 10**-6\n",
    "a5 = 6.536332 * 10**-9\n",
    "\n",
    "rho_water = (a0)+(a1*T)+(a2*T**2)+(a3*T**3)+(a4*T**4)+(a5*T**5)       # water density in kg/m3\n",
    "print('the water density is ' + str(np.round(rho_water,2))+' kg/m3')"
   ]
  },
  {
   "cell_type": "markdown",
   "metadata": {},
   "source": [
    "#### Buoyancy if the bottle is 100% in water"
   ]
  },
  {
   "cell_type": "code",
   "execution_count": null,
   "metadata": {},
   "outputs": [],
   "source": [
    "# lets calculate the buoyancy force (Fb) acting on the object when completely submerged in water\n",
    "# the buoyancy force is the upward (what's making it float) force on the object, equal to the weight of the water that our floats displace\n",
    "\n",
    "g = 9.81            # m/s2, gravity\n",
    "\n",
    "Fb_water = V * g * rho_water    # kg m/s2, the buoyancy force acting on the bottle, based on the amount of water the bottle displaces\n",
    "\n",
    "print(\"Fb= \"+str(round(Fb_water,5))+\" kg m/s^2\") "
   ]
  },
  {
   "cell_type": "code",
   "execution_count": null,
   "metadata": {},
   "outputs": [],
   "source": [
    "# mass of the bottle needed for neutral buoyancy if completely in water\n",
    "m_water = Fb_water/g                      # mass in kg\n",
    "print(str(round(m_water*1000,2))+\" g\")  # the mass is in g here because that is the units the scales are in"
   ]
  },
  {
   "cell_type": "markdown",
   "metadata": {},
   "source": [
    "## Oil\n",
    "#### Density"
   ]
  },
  {
   "cell_type": "code",
   "execution_count": null,
   "metadata": {},
   "outputs": [],
   "source": [
    "# and what about the oil density?\n",
    "\n",
    "# coefficients based upon Esteban et al. (2012) - \"Temperature dependence of density and viscosity of vegetable oils\"\n",
    "# for canola oil:\n",
    "a = 0.9273\n",
    "b = -6.1837*10**-4\n",
    "\n",
    "# for sunflower oil:\n",
    "# a = 0.9310\n",
    "# b = -6.4145*10**-4\n",
    "\n",
    "# for soy (vegetable) oil:\n",
    "# a = 0.9315\n",
    "# b = -6.2790*10**-4\n",
    "\n",
    "rho_oil = (a + b*T)*1000                                           # oil density in kg/m3\n",
    "print('the oil density is ' + str(np.round(rho_oil,2))+' kg/m3')"
   ]
  },
  {
   "cell_type": "markdown",
   "metadata": {},
   "source": [
    "#### Buoyancy if the bottle is 100% in oil"
   ]
  },
  {
   "cell_type": "code",
   "execution_count": null,
   "metadata": {},
   "outputs": [],
   "source": [
    "# lets calculate the buoyancy force (Fb) acting on the object when in the oil, to check what mass we need to be greater than to cut through the oil\n",
    "# the buoyancy force is the upward (what's making it float) force on the object, equal to the weight of the water that our floats displace\n",
    "\n",
    "Fb_oil = V * g * rho_oil\n",
    "print(\"Fb= \"+str(round(Fb_oil,5))+\" kg m/s^2\")  # kg m/s2, the buoyancy force acting on the bottle, based on the amount of oil the bottle displaces"
   ]
  },
  {
   "cell_type": "code",
   "execution_count": null,
   "metadata": {},
   "outputs": [],
   "source": [
    "# and then the mass you would need for neutral buoyancy\n",
    "m_oil = Fb_oil/g                        # mass in kg\n",
    "print(str(round(m_oil*1000,2))+\" g\")    # the mass is in g here because that is the units the scales are in"
   ]
  },
  {
   "cell_type": "markdown",
   "metadata": {},
   "source": [
    "## Targeting the Interface"
   ]
  },
  {
   "cell_type": "code",
   "execution_count": null,
   "metadata": {},
   "outputs": [],
   "source": [
    "# things get more complicated at the interface though.. what if the bottle is partly in the water and partly in the oil?\n",
    "\n",
    "percent = 0.5                                          # percentage of the volume of the bottle in water, half (0.5) for targeting the interface \n",
    "\n",
    "Fb = V*percent*g*rho_water + V*(1-percent)*g*rho_oil   # add together the buoyancy from the portion in water and the portion in oil\n",
    "m = Fb/g                                               # and calculate the mass needed for this different scenarios, kg\n",
    "print(str(round(m*1000,2))+\" g\")                     # I chose to print the mass in g here because that is the units the scales are in"
   ]
  },
  {
   "cell_type": "markdown",
   "metadata": {},
   "source": [
    "## How fast will your float sink?"
   ]
  },
  {
   "cell_type": "code",
   "execution_count": null,
   "metadata": {},
   "outputs": [],
   "source": [
    "# define any terms that we don't have yet\n",
    "A = math.pi * ((bw)/2)**2                         # bottle cross-sectional area in m2, the face perpendicular to the direction its falling \n",
    "Cd = 1                                            # drag coefficient around 1 for a cylinder in laminar flow (Heddleson et al., 1957)\n",
    "\n",
    "w = np.sqrt((2*g*(m-V*rho_oil))/(rho_oil*Cd*A))   # sinking rate in m/s\n",
    "print(\"sinking rate = \"+str(round(w,2))+\" m/s\")"
   ]
  },
  {
   "cell_type": "code",
   "execution_count": null,
   "metadata": {},
   "outputs": [],
   "source": [
    "# how much time before it reaches the interface?\n",
    "d =                             ### depth from the oil surface to the interface in m\n",
    "print(str(round(d/w,2))+ \" s\")"
   ]
  },
  {
   "cell_type": "markdown",
   "metadata": {},
   "source": [
    "## How much does your float cost!?"
   ]
  },
  {
   "cell_type": "code",
   "execution_count": null,
   "metadata": {},
   "outputs": [],
   "source": [
    "# space here to tally up the cost of your materials\n",
    "\n",
    "###"
   ]
  },
  {
   "cell_type": "code",
   "execution_count": null,
   "metadata": {},
   "outputs": [],
   "source": []
  }
 ],
 "metadata": {
  "kernelspec": {
   "display_name": "FSL",
   "language": "python",
   "name": "python3"
  },
  "language_info": {
   "codemirror_mode": {
    "name": "ipython",
    "version": 3
   },
   "file_extension": ".py",
   "mimetype": "text/x-python",
   "name": "python",
   "nbconvert_exporter": "python",
   "pygments_lexer": "ipython3",
   "version": "3.11.4"
  },
  "orig_nbformat": 4
 },
 "nbformat": 4,
 "nbformat_minor": 2
}
